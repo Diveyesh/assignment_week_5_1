{
  "nbformat": 4,
  "nbformat_minor": 0,
  "metadata": {
    "colab": {
      "provenance": []
    },
    "kernelspec": {
      "name": "python3",
      "display_name": "Python 3"
    },
    "language_info": {
      "name": "python"
    }
  },
  "cells": [
    {
      "cell_type": "markdown",
      "source": [
        "##Submitted by - Diveyesh"
      ],
      "metadata": {
        "id": "LlWfeZPp3Pzi"
      }
    },
    {
      "cell_type": "markdown",
      "source": [
        "##Question-1"
      ],
      "metadata": {
        "id": "1gL9qmM73VJ6"
      }
    },
    {
      "cell_type": "code",
      "execution_count": null,
      "metadata": {
        "id": "OU-16Q9r2Ptx"
      },
      "outputs": [],
      "source": [
        "#Errors detected during code execution are called exception."
      ]
    },
    {
      "cell_type": "code",
      "source": [
        "#Syntax errors are caused by code that doesn't conform to the language's syntax rules whereas\n",
        "#Exceptions occur during program execution due to unexpected events and can be handled using try-except blocks to prevent program crashes."
      ],
      "metadata": {
        "id": "f8VM9o40-Xp6"
      },
      "execution_count": null,
      "outputs": []
    },
    {
      "cell_type": "markdown",
      "source": [
        "##Question - 2"
      ],
      "metadata": {
        "id": "-QFfah7YCtK5"
      }
    },
    {
      "cell_type": "code",
      "source": [
        "# When an exception is not handeled,then the  program terminates abruptly and\n",
        "# the code past the line that caused the exception will not get executed."
      ],
      "metadata": {
        "id": "qEyOsvNy-Xm3"
      },
      "execution_count": null,
      "outputs": []
    },
    {
      "cell_type": "code",
      "source": [
        "print(\"this will get executed\")\n",
        "print(10/0)\n",
        "print(\"This will not get executed as the line above it will throw exception\")"
      ],
      "metadata": {
        "colab": {
          "base_uri": "https://localhost:8080/",
          "height": 224
        },
        "id": "75kBnxpn-Xjb",
        "outputId": "3b5168dd-eaa5-4451-da0b-5d09e535c8a7"
      },
      "execution_count": null,
      "outputs": [
        {
          "output_type": "stream",
          "name": "stdout",
          "text": [
            "this will get executed\n"
          ]
        },
        {
          "output_type": "error",
          "ename": "ZeroDivisionError",
          "evalue": "ignored",
          "traceback": [
            "\u001b[0;31m---------------------------------------------------------------------------\u001b[0m",
            "\u001b[0;31mZeroDivisionError\u001b[0m                         Traceback (most recent call last)",
            "\u001b[0;32m<ipython-input-2-1a4145093443>\u001b[0m in \u001b[0;36m<cell line: 2>\u001b[0;34m()\u001b[0m\n\u001b[1;32m      1\u001b[0m \u001b[0mprint\u001b[0m\u001b[0;34m(\u001b[0m\u001b[0;34m\"this will get executed\"\u001b[0m\u001b[0;34m)\u001b[0m\u001b[0;34m\u001b[0m\u001b[0;34m\u001b[0m\u001b[0m\n\u001b[0;32m----> 2\u001b[0;31m \u001b[0mprint\u001b[0m\u001b[0;34m(\u001b[0m\u001b[0;36m10\u001b[0m\u001b[0;34m/\u001b[0m\u001b[0;36m0\u001b[0m\u001b[0;34m)\u001b[0m\u001b[0;34m\u001b[0m\u001b[0;34m\u001b[0m\u001b[0m\n\u001b[0m\u001b[1;32m      3\u001b[0m \u001b[0mprint\u001b[0m\u001b[0;34m(\u001b[0m\u001b[0;34m\"This will not get executed as the line above it will throw exception\"\u001b[0m\u001b[0;34m)\u001b[0m\u001b[0;34m\u001b[0m\u001b[0;34m\u001b[0m\u001b[0m\n",
            "\u001b[0;31mZeroDivisionError\u001b[0m: division by zero"
          ]
        }
      ]
    },
    {
      "cell_type": "code",
      "source": [
        "#handling the error\n",
        "print(\"this will get executed\")\n",
        "try:\n",
        "  print(10/0)\n",
        "except ZeroDivisionError as e:\n",
        "  print(e)\n",
        "print(\"Now this will be executed as exception is handeled.\")"
      ],
      "metadata": {
        "colab": {
          "base_uri": "https://localhost:8080/"
        },
        "id": "oZcplZn3-Xg0",
        "outputId": "c0789511-1bab-403f-8ca4-49accceb5384"
      },
      "execution_count": null,
      "outputs": [
        {
          "output_type": "stream",
          "name": "stdout",
          "text": [
            "this will get executed\n",
            "division by zero\n",
            "Now this will be executed as exception is handeled.\n"
          ]
        }
      ]
    },
    {
      "cell_type": "markdown",
      "source": [
        "##Question- 3"
      ],
      "metadata": {
        "id": "5_8ZnZLaFEr7"
      }
    },
    {
      "cell_type": "code",
      "source": [
        "#The try and except block in Python is used to catch and handle exceptions."
      ],
      "metadata": {
        "id": "1p504iWz-XdH"
      },
      "execution_count": null,
      "outputs": []
    },
    {
      "cell_type": "code",
      "source": [
        "def division(num1,num2):\n",
        "  div = num1/num2\n",
        "  return div"
      ],
      "metadata": {
        "id": "GVrwBaOC-XaD"
      },
      "execution_count": null,
      "outputs": []
    },
    {
      "cell_type": "code",
      "source": [
        "division(10,2)"
      ],
      "metadata": {
        "colab": {
          "base_uri": "https://localhost:8080/"
        },
        "id": "hPfgaqIb-XWt",
        "outputId": "97af9f62-bc96-45ba-8e3e-9f91eb097d98"
      },
      "execution_count": null,
      "outputs": [
        {
          "output_type": "execute_result",
          "data": {
            "text/plain": [
              "5.0"
            ]
          },
          "metadata": {},
          "execution_count": 8
        }
      ]
    },
    {
      "cell_type": "code",
      "source": [
        "division(10,0)"
      ],
      "metadata": {
        "colab": {
          "base_uri": "https://localhost:8080/",
          "height": 260
        },
        "id": "uf7EPTmj-XT9",
        "outputId": "e657a9ac-a0ad-4f10-cff9-56c1a311bb1e"
      },
      "execution_count": null,
      "outputs": [
        {
          "output_type": "error",
          "ename": "ZeroDivisionError",
          "evalue": "ignored",
          "traceback": [
            "\u001b[0;31m---------------------------------------------------------------------------\u001b[0m",
            "\u001b[0;31mZeroDivisionError\u001b[0m                         Traceback (most recent call last)",
            "\u001b[0;32m<ipython-input-9-08dceec804ec>\u001b[0m in \u001b[0;36m<cell line: 1>\u001b[0;34m()\u001b[0m\n\u001b[0;32m----> 1\u001b[0;31m \u001b[0mdivision\u001b[0m\u001b[0;34m(\u001b[0m\u001b[0;36m10\u001b[0m\u001b[0;34m,\u001b[0m\u001b[0;36m0\u001b[0m\u001b[0;34m)\u001b[0m\u001b[0;34m\u001b[0m\u001b[0;34m\u001b[0m\u001b[0m\n\u001b[0m",
            "\u001b[0;32m<ipython-input-6-fe3840a2b7aa>\u001b[0m in \u001b[0;36mdivision\u001b[0;34m(num1, num2)\u001b[0m\n\u001b[1;32m      1\u001b[0m \u001b[0;32mdef\u001b[0m \u001b[0mdivision\u001b[0m\u001b[0;34m(\u001b[0m\u001b[0mnum1\u001b[0m\u001b[0;34m,\u001b[0m\u001b[0mnum2\u001b[0m\u001b[0;34m)\u001b[0m\u001b[0;34m:\u001b[0m\u001b[0;34m\u001b[0m\u001b[0;34m\u001b[0m\u001b[0m\n\u001b[0;32m----> 2\u001b[0;31m   \u001b[0mdiv\u001b[0m \u001b[0;34m=\u001b[0m \u001b[0mnum1\u001b[0m\u001b[0;34m/\u001b[0m\u001b[0mnum2\u001b[0m\u001b[0;34m\u001b[0m\u001b[0;34m\u001b[0m\u001b[0m\n\u001b[0m\u001b[1;32m      3\u001b[0m   \u001b[0;32mreturn\u001b[0m \u001b[0mdiv\u001b[0m\u001b[0;34m\u001b[0m\u001b[0;34m\u001b[0m\u001b[0m\n",
            "\u001b[0;31mZeroDivisionError\u001b[0m: division by zero"
          ]
        }
      ]
    },
    {
      "cell_type": "code",
      "source": [
        "#Now handling this exception\n",
        "def division(num1,num2):\n",
        "  try:\n",
        "    div = num1/num2\n",
        "    return div\n",
        "  except ZeroDivisionError as e:\n",
        "    return e"
      ],
      "metadata": {
        "id": "VHvblW6I-XQ8"
      },
      "execution_count": null,
      "outputs": []
    },
    {
      "cell_type": "code",
      "source": [
        "division(10,0)"
      ],
      "metadata": {
        "colab": {
          "base_uri": "https://localhost:8080/"
        },
        "id": "F-iHUYO4-XNx",
        "outputId": "27b76d06-aa67-4417-ea34-ddf8d98ded52"
      },
      "execution_count": null,
      "outputs": [
        {
          "output_type": "execute_result",
          "data": {
            "text/plain": [
              "ZeroDivisionError('division by zero')"
            ]
          },
          "metadata": {},
          "execution_count": 12
        }
      ]
    },
    {
      "cell_type": "code",
      "source": [
        "division(10,2)"
      ],
      "metadata": {
        "colab": {
          "base_uri": "https://localhost:8080/"
        },
        "id": "ceUeBReC-XKn",
        "outputId": "c03776e3-7fe3-4650-88ce-7d4a5f67cdcd"
      },
      "execution_count": null,
      "outputs": [
        {
          "output_type": "execute_result",
          "data": {
            "text/plain": [
              "5.0"
            ]
          },
          "metadata": {},
          "execution_count": 13
        }
      ]
    },
    {
      "cell_type": "code",
      "source": [],
      "metadata": {
        "id": "7Ls_ctO6Gqex"
      },
      "execution_count": null,
      "outputs": []
    },
    {
      "cell_type": "markdown",
      "source": [
        "#Question - 4"
      ],
      "metadata": {
        "id": "h64o8vtRGiSd"
      }
    },
    {
      "cell_type": "code",
      "source": [
        "# Try: This block will test the excepted error to occur\n",
        "# Except:  Here we can handle the error\n",
        "# Else: If there is no exception then this block will be executed\n",
        "# Finally: Finally block always gets executed either exception is generated or not\n",
        "# Raise : Raise keyword is used to raise an exception.\n",
        "\n",
        "##Examples and their usages are shown below."
      ],
      "metadata": {
        "id": "4_HiUaMrWgH5"
      },
      "execution_count": null,
      "outputs": []
    },
    {
      "cell_type": "code",
      "source": [
        "#exception handling\n",
        "list_1 = [100,200,300]\n",
        "list_2 = [10,20,30]\n",
        "list_3 = []\n",
        "\n",
        "try:\n",
        "  for i in range(0,len(list_1)):\n",
        "    if type(list_1[i]) and type(list_1[i]) != int:\n",
        "      raise TypeError(\"Only int are allowed\")\n",
        "    x = list_1[i] + list_2[i]\n",
        "    list_3.append(x)\n",
        "  print(list_3)\n",
        "\n",
        "except (IndexError,TypeError) as e:\n",
        "  print(e)\n",
        "\n",
        "else:\n",
        "  print(\"if try block is fully executed then only else block will be executed\")\n",
        "\n",
        "finally:\n",
        "  print(\"finally block is always exected\")"
      ],
      "metadata": {
        "colab": {
          "base_uri": "https://localhost:8080/"
        },
        "id": "9sd4iJEFPo9-",
        "outputId": "1e0526bb-8b6e-445d-ec9f-9e5f419919a5"
      },
      "execution_count": null,
      "outputs": [
        {
          "output_type": "stream",
          "name": "stdout",
          "text": [
            "[110, 220, 330]\n",
            "if try block is fully executed then only else block will be executed\n",
            "finally block is always exected\n"
          ]
        }
      ]
    },
    {
      "cell_type": "code",
      "source": [
        "#exception handling by providing string in list\n",
        "list_1 = [\"100\",200,300]\n",
        "list_2 = [10,20,30]\n",
        "list_3 = []\n",
        "\n",
        "try:\n",
        "  for i in range(0,len(list_1)):\n",
        "    if type(list_1[i]) and type(list_1[i]) != int:\n",
        "      raise TypeError(\"Only int are allowed\")\n",
        "    x = list_1[i] + list_2[i]\n",
        "    list_3.append(x)\n",
        "  print(list_3)\n",
        "\n",
        "except (IndexError,TypeError) as e:\n",
        "  print(e)\n",
        "\n",
        "else:\n",
        "  print(\"if try block is fully executed then only else block will be executed\")\n",
        "\n",
        "finally:\n",
        "  print(\"finally block is always exected\")"
      ],
      "metadata": {
        "colab": {
          "base_uri": "https://localhost:8080/"
        },
        "id": "HO1kDdci-XEs",
        "outputId": "4a056aeb-1e15-4bd9-fe63-ffa2219fa1a8"
      },
      "execution_count": null,
      "outputs": [
        {
          "output_type": "stream",
          "name": "stdout",
          "text": [
            "Only int are allowed\n",
            "finally block is always exected\n"
          ]
        }
      ]
    },
    {
      "cell_type": "code",
      "source": [
        "#exception handling by index out of range\n",
        "list_1 = [100,200,300]\n",
        "list_2 = [10,20,30]\n",
        "list_3 = []\n",
        "\n",
        "try:\n",
        "  for i in range(0,len(list_1)+1):\n",
        "    if type(list_1[i]) and type(list_1[i]) != int:\n",
        "      raise TypeError(\"Only int are allowed\")\n",
        "    x = list_1[i] + list_2[i]\n",
        "    list_3.append(x)\n",
        "  print(list_3)\n",
        "\n",
        "except (IndexError,TypeError) as e:\n",
        "  print(e)\n",
        "\n",
        "else:\n",
        "  print(\"if try block is fully executed then only else block will be executed\")\n",
        "\n",
        "finally:\n",
        "  print(\"finally block is always exected\")"
      ],
      "metadata": {
        "colab": {
          "base_uri": "https://localhost:8080/"
        },
        "id": "X8ByJiK3-XBs",
        "outputId": "a4d71d31-6776-44ba-e3de-32714569457c"
      },
      "execution_count": null,
      "outputs": [
        {
          "output_type": "stream",
          "name": "stdout",
          "text": [
            "list index out of range\n",
            "finally block is always exected\n"
          ]
        }
      ]
    },
    {
      "cell_type": "markdown",
      "source": [
        "#Question - 5"
      ],
      "metadata": {
        "id": "Ec3OSUhGin_l"
      }
    },
    {
      "cell_type": "code",
      "source": [
        "#Custom exceptions are user-defined exceptions that extend the base Exception class or its subclasses.\n",
        "#Custom exceptionsallow to raise specific exceptions based on the requirements of  program.\n",
        "#Custom exceptions provide a way to handle exceptional scenarios that are specific to application's logic.\n",
        "#Example- Suppose we want to make our own exception class of invalid marks so that we can tell the user that they have entered invalid marks.\n",
        "# Same is also explained in question no.-6"
      ],
      "metadata": {
        "id": "CVUgfjWHinp4"
      },
      "execution_count": null,
      "outputs": []
    },
    {
      "cell_type": "markdown",
      "source": [
        "#Question -6"
      ],
      "metadata": {
        "id": "BszpfvZ--s8-"
      }
    },
    {
      "cell_type": "code",
      "source": [
        "class validatemarks(Exception):\n",
        "  def __init__(self,msg):\n",
        "    self.message = msg"
      ],
      "metadata": {
        "id": "V9vCJnB6-W-8"
      },
      "execution_count": 1,
      "outputs": []
    },
    {
      "cell_type": "code",
      "source": [
        "def validate_marks(marks):\n",
        "  if marks<0 or marks>100:\n",
        "    raise validatemarks(\"Invalid marks\")\n",
        "  else:\n",
        "    print(\"Valid marks\")"
      ],
      "metadata": {
        "id": "FNECYx-C-W8F"
      },
      "execution_count": 2,
      "outputs": []
    },
    {
      "cell_type": "code",
      "source": [
        "try:\n",
        "  marks = int(input(\"Kindly enter your marks\\n\"))\n",
        "  validate_marks(marks)\n",
        "except validatemarks as e:\n",
        "  print(e)"
      ],
      "metadata": {
        "colab": {
          "base_uri": "https://localhost:8080/"
        },
        "id": "xzRTFZ-1-W4s",
        "outputId": "9a93c081-d3ef-4c68-95d8-9c6c9c18753d"
      },
      "execution_count": 5,
      "outputs": [
        {
          "output_type": "stream",
          "name": "stdout",
          "text": [
            "Kindly enter your marks\n",
            "-16\n",
            "Invalid marks\n"
          ]
        }
      ]
    }
  ]
}